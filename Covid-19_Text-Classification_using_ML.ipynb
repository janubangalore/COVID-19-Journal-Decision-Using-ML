{
 "cells": [
  {
   "cell_type": "code",
   "execution_count": 69,
   "metadata": {},
   "outputs": [
    {
     "name": "stdout",
     "output_type": "stream",
     "text": [
      "Requirement already satisfied: langdetect in c:\\users\\swathi\\anaconda3\\lib\\site-packages (1.0.8)\n",
      "Requirement already satisfied: six in c:\\users\\swathi\\anaconda3\\lib\\site-packages (from langdetect) (1.15.0)\n"
     ]
    }
   ],
   "source": [
    "%matplotlib inline\n",
    "import pandas as pd\n",
    "import numpy as np\n",
    "import matplotlib.pyplot as plt\n",
    "import nltk\n",
    "import future\n",
    "\n",
    "from sklearn.model_selection import train_test_split, GridSearchCV\n",
    "from sklearn.feature_extraction.text import CountVectorizer, TfidfVectorizer\n",
    "from sklearn.naive_bayes import BernoulliNB, MultinomialNB\n",
    "from sklearn import metrics\n",
    "from sklearn.metrics import roc_auc_score, accuracy_score\n",
    "from sklearn.preprocessing import label_binarize\n",
    "\n",
    "from sklearn.pipeline import Pipeline\n",
    "from sklearn import svm\n",
    "from sklearn.svm import LinearSVC\n",
    "from sklearn.svm import SVR\n",
    "from sklearn import metrics\n",
    "from sklearn.neighbors import KNeighborsClassifier\n",
    "\n",
    "\n",
    "from bs4 import BeautifulSoup\n",
    "import re\n",
    "import nltk\n",
    "from nltk.corpus import stopwords\n",
    "\n",
    "!pip install langdetect"
   ]
  },
  {
   "cell_type": "code",
   "execution_count": 70,
   "metadata": {},
   "outputs": [],
   "source": [
    "from langdetect import detect"
   ]
  },
  {
   "cell_type": "code",
   "execution_count": 71,
   "metadata": {},
   "outputs": [],
   "source": [
    "data_filtered=pd.read_csv(\"data1.csv\")"
   ]
  },
  {
   "cell_type": "code",
   "execution_count": 72,
   "metadata": {},
   "outputs": [
    {
     "data": {
      "text/html": [
       "<div>\n",
       "<style scoped>\n",
       "    .dataframe tbody tr th:only-of-type {\n",
       "        vertical-align: middle;\n",
       "    }\n",
       "\n",
       "    .dataframe tbody tr th {\n",
       "        vertical-align: top;\n",
       "    }\n",
       "\n",
       "    .dataframe thead th {\n",
       "        text-align: right;\n",
       "    }\n",
       "</style>\n",
       "<table border=\"1\" class=\"dataframe\">\n",
       "  <thead>\n",
       "    <tr style=\"text-align: right;\">\n",
       "      <th></th>\n",
       "      <th>cord_uid</th>\n",
       "      <th>sha</th>\n",
       "      <th>source_x</th>\n",
       "      <th>title</th>\n",
       "      <th>doi</th>\n",
       "      <th>pmcid</th>\n",
       "      <th>pubmed_id</th>\n",
       "      <th>license</th>\n",
       "      <th>abstract</th>\n",
       "      <th>publish_time</th>\n",
       "      <th>authors</th>\n",
       "      <th>journal</th>\n",
       "      <th>mag_id</th>\n",
       "      <th>who_covidence_id</th>\n",
       "      <th>arxiv_id</th>\n",
       "      <th>pdf_json_files</th>\n",
       "      <th>pmc_json_files</th>\n",
       "      <th>url</th>\n",
       "      <th>s2_id</th>\n",
       "    </tr>\n",
       "  </thead>\n",
       "  <tbody>\n",
       "    <tr>\n",
       "      <th>0</th>\n",
       "      <td>rr2wwvue</td>\n",
       "      <td>c64f525d77bf8b2ae4439a875f1bd8eb197a0519</td>\n",
       "      <td>PMC</td>\n",
       "      <td>Association and Host Selectivity in Multi-Host...</td>\n",
       "      <td>10.1371/journal.pone.0000041</td>\n",
       "      <td>PMC1762347</td>\n",
       "      <td>17183670.0</td>\n",
       "      <td>cc-by</td>\n",
       "      <td>The distribution of multi-host pathogens over ...</td>\n",
       "      <td>2006-12-20</td>\n",
       "      <td>Malpica, José M.; Sacristán, Soledad; Fraile, ...</td>\n",
       "      <td>PLoS One</td>\n",
       "      <td>NaN</td>\n",
       "      <td>NaN</td>\n",
       "      <td>NaN</td>\n",
       "      <td>document_parses/pdf_json/c64f525d77bf8b2ae4439...</td>\n",
       "      <td>document_parses/pmc_json/PMC1762347.xml.json</td>\n",
       "      <td>https://www.ncbi.nlm.nih.gov/pmc/articles/PMC1...</td>\n",
       "      <td>NaN</td>\n",
       "    </tr>\n",
       "    <tr>\n",
       "      <th>1</th>\n",
       "      <td>1n0rg5vd</td>\n",
       "      <td>6af02873a430f5f75dc56a917f26feaea89b8e79</td>\n",
       "      <td>PMC</td>\n",
       "      <td>The Effectiveness of Contact Tracing in Emergi...</td>\n",
       "      <td>10.1371/journal.pone.0000012</td>\n",
       "      <td>PMC1762362</td>\n",
       "      <td>17183638.0</td>\n",
       "      <td>cc-by</td>\n",
       "      <td>BACKGROUND: Contact tracing plays an important...</td>\n",
       "      <td>2006-12-20</td>\n",
       "      <td>Klinkenberg, Don; Fraser, Christophe; Heesterb...</td>\n",
       "      <td>PLoS One</td>\n",
       "      <td>NaN</td>\n",
       "      <td>NaN</td>\n",
       "      <td>NaN</td>\n",
       "      <td>document_parses/pdf_json/6af02873a430f5f75dc56...</td>\n",
       "      <td>document_parses/pmc_json/PMC1762362.xml.json</td>\n",
       "      <td>https://www.ncbi.nlm.nih.gov/pmc/articles/PMC1...</td>\n",
       "      <td>NaN</td>\n",
       "    </tr>\n",
       "    <tr>\n",
       "      <th>2</th>\n",
       "      <td>nzh87aux</td>\n",
       "      <td>9b7a0ad7b6c7f59e7a6cf1dc9d07912a273d19b5</td>\n",
       "      <td>PMC</td>\n",
       "      <td>The Waiting Time for Inter-Country Spread of P...</td>\n",
       "      <td>10.1371/journal.pone.0000143</td>\n",
       "      <td>PMC1764036</td>\n",
       "      <td>17206278.0</td>\n",
       "      <td>cc-by</td>\n",
       "      <td>BACKGROUND: The time delay between the start o...</td>\n",
       "      <td>2007-01-03</td>\n",
       "      <td>Caley, Peter; Becker, Niels G.; Philp, David J.</td>\n",
       "      <td>PLoS One</td>\n",
       "      <td>NaN</td>\n",
       "      <td>NaN</td>\n",
       "      <td>NaN</td>\n",
       "      <td>document_parses/pdf_json/9b7a0ad7b6c7f59e7a6cf...</td>\n",
       "      <td>document_parses/pmc_json/PMC1764036.xml.json</td>\n",
       "      <td>https://www.ncbi.nlm.nih.gov/pmc/articles/PMC1...</td>\n",
       "      <td>NaN</td>\n",
       "    </tr>\n",
       "    <tr>\n",
       "      <th>3</th>\n",
       "      <td>x2zq0lnt</td>\n",
       "      <td>d882f79283751d6c7f2e48cb991ee8abbcd913ae</td>\n",
       "      <td>PMC</td>\n",
       "      <td>The Transmissibility of Highly Pathogenic Avia...</td>\n",
       "      <td>10.1371/journal.pone.0000349</td>\n",
       "      <td>PMC1831494</td>\n",
       "      <td>17406673.0</td>\n",
       "      <td>cc-by</td>\n",
       "      <td>BACKGROUND: With the increased occurrence of o...</td>\n",
       "      <td>2007-04-04</td>\n",
       "      <td>Garske, Tini; Clarke, Paul; Ghani, Azra C.</td>\n",
       "      <td>PLoS One</td>\n",
       "      <td>NaN</td>\n",
       "      <td>NaN</td>\n",
       "      <td>NaN</td>\n",
       "      <td>document_parses/pdf_json/d882f79283751d6c7f2e4...</td>\n",
       "      <td>document_parses/pmc_json/PMC1831494.xml.json</td>\n",
       "      <td>https://www.ncbi.nlm.nih.gov/pmc/articles/PMC1...</td>\n",
       "      <td>NaN</td>\n",
       "    </tr>\n",
       "    <tr>\n",
       "      <th>4</th>\n",
       "      <td>s4y6uxsb</td>\n",
       "      <td>305cf1019ca9c81126b2e527fedf79969c2c522f</td>\n",
       "      <td>PMC</td>\n",
       "      <td>ElaD, a Deubiquitinating Protease Expressed by...</td>\n",
       "      <td>10.1371/journal.pone.0000381</td>\n",
       "      <td>PMC1847702</td>\n",
       "      <td>17440617.0</td>\n",
       "      <td>cc-by</td>\n",
       "      <td>BACKGROUND: Ubiquitin and ubiquitin-like prote...</td>\n",
       "      <td>2007-04-18</td>\n",
       "      <td>Catic, André; Misaghi, Shahram; Korbel, Gregor...</td>\n",
       "      <td>PLoS One</td>\n",
       "      <td>NaN</td>\n",
       "      <td>NaN</td>\n",
       "      <td>NaN</td>\n",
       "      <td>document_parses/pdf_json/305cf1019ca9c81126b2e...</td>\n",
       "      <td>document_parses/pmc_json/PMC1847702.xml.json</td>\n",
       "      <td>https://www.ncbi.nlm.nih.gov/pmc/articles/PMC1...</td>\n",
       "      <td>NaN</td>\n",
       "    </tr>\n",
       "  </tbody>\n",
       "</table>\n",
       "</div>"
      ],
      "text/plain": [
       "   cord_uid                                       sha source_x  \\\n",
       "0  rr2wwvue  c64f525d77bf8b2ae4439a875f1bd8eb197a0519      PMC   \n",
       "1  1n0rg5vd  6af02873a430f5f75dc56a917f26feaea89b8e79      PMC   \n",
       "2  nzh87aux  9b7a0ad7b6c7f59e7a6cf1dc9d07912a273d19b5      PMC   \n",
       "3  x2zq0lnt  d882f79283751d6c7f2e48cb991ee8abbcd913ae      PMC   \n",
       "4  s4y6uxsb  305cf1019ca9c81126b2e527fedf79969c2c522f      PMC   \n",
       "\n",
       "                                               title  \\\n",
       "0  Association and Host Selectivity in Multi-Host...   \n",
       "1  The Effectiveness of Contact Tracing in Emergi...   \n",
       "2  The Waiting Time for Inter-Country Spread of P...   \n",
       "3  The Transmissibility of Highly Pathogenic Avia...   \n",
       "4  ElaD, a Deubiquitinating Protease Expressed by...   \n",
       "\n",
       "                            doi       pmcid   pubmed_id license  \\\n",
       "0  10.1371/journal.pone.0000041  PMC1762347  17183670.0   cc-by   \n",
       "1  10.1371/journal.pone.0000012  PMC1762362  17183638.0   cc-by   \n",
       "2  10.1371/journal.pone.0000143  PMC1764036  17206278.0   cc-by   \n",
       "3  10.1371/journal.pone.0000349  PMC1831494  17406673.0   cc-by   \n",
       "4  10.1371/journal.pone.0000381  PMC1847702  17440617.0   cc-by   \n",
       "\n",
       "                                            abstract publish_time  \\\n",
       "0  The distribution of multi-host pathogens over ...   2006-12-20   \n",
       "1  BACKGROUND: Contact tracing plays an important...   2006-12-20   \n",
       "2  BACKGROUND: The time delay between the start o...   2007-01-03   \n",
       "3  BACKGROUND: With the increased occurrence of o...   2007-04-04   \n",
       "4  BACKGROUND: Ubiquitin and ubiquitin-like prote...   2007-04-18   \n",
       "\n",
       "                                             authors   journal  mag_id  \\\n",
       "0  Malpica, José M.; Sacristán, Soledad; Fraile, ...  PLoS One     NaN   \n",
       "1  Klinkenberg, Don; Fraser, Christophe; Heesterb...  PLoS One     NaN   \n",
       "2    Caley, Peter; Becker, Niels G.; Philp, David J.  PLoS One     NaN   \n",
       "3         Garske, Tini; Clarke, Paul; Ghani, Azra C.  PLoS One     NaN   \n",
       "4  Catic, André; Misaghi, Shahram; Korbel, Gregor...  PLoS One     NaN   \n",
       "\n",
       "  who_covidence_id  arxiv_id  \\\n",
       "0              NaN       NaN   \n",
       "1              NaN       NaN   \n",
       "2              NaN       NaN   \n",
       "3              NaN       NaN   \n",
       "4              NaN       NaN   \n",
       "\n",
       "                                      pdf_json_files  \\\n",
       "0  document_parses/pdf_json/c64f525d77bf8b2ae4439...   \n",
       "1  document_parses/pdf_json/6af02873a430f5f75dc56...   \n",
       "2  document_parses/pdf_json/9b7a0ad7b6c7f59e7a6cf...   \n",
       "3  document_parses/pdf_json/d882f79283751d6c7f2e4...   \n",
       "4  document_parses/pdf_json/305cf1019ca9c81126b2e...   \n",
       "\n",
       "                                 pmc_json_files  \\\n",
       "0  document_parses/pmc_json/PMC1762347.xml.json   \n",
       "1  document_parses/pmc_json/PMC1762362.xml.json   \n",
       "2  document_parses/pmc_json/PMC1764036.xml.json   \n",
       "3  document_parses/pmc_json/PMC1831494.xml.json   \n",
       "4  document_parses/pmc_json/PMC1847702.xml.json   \n",
       "\n",
       "                                                 url  s2_id  \n",
       "0  https://www.ncbi.nlm.nih.gov/pmc/articles/PMC1...    NaN  \n",
       "1  https://www.ncbi.nlm.nih.gov/pmc/articles/PMC1...    NaN  \n",
       "2  https://www.ncbi.nlm.nih.gov/pmc/articles/PMC1...    NaN  \n",
       "3  https://www.ncbi.nlm.nih.gov/pmc/articles/PMC1...    NaN  \n",
       "4  https://www.ncbi.nlm.nih.gov/pmc/articles/PMC1...    NaN  "
      ]
     },
     "execution_count": 72,
     "metadata": {},
     "output_type": "execute_result"
    }
   ],
   "source": [
    "data_filtered.head()"
   ]
  },
  {
   "cell_type": "code",
   "execution_count": 73,
   "metadata": {},
   "outputs": [
    {
     "data": {
      "text/plain": [
       "bioRxiv     4773\n",
       "PLoS One    4398\n",
       "BMJ         4246\n",
       "Sci Rep     2057\n",
       "Nature      2015\n",
       "Name: journal, dtype: int64"
      ]
     },
     "execution_count": 73,
     "metadata": {},
     "output_type": "execute_result"
    }
   ],
   "source": [
    "data_filtered['journal'].value_counts()"
   ]
  },
  {
   "cell_type": "code",
   "execution_count": 74,
   "metadata": {},
   "outputs": [
    {
     "data": {
      "text/plain": [
       "(17489, 19)"
      ]
     },
     "execution_count": 74,
     "metadata": {},
     "output_type": "execute_result"
    }
   ],
   "source": [
    "data_filtered.shape"
   ]
  },
  {
   "cell_type": "code",
   "execution_count": 75,
   "metadata": {},
   "outputs": [
    {
     "data": {
      "text/plain": [
       "pandas.core.frame.DataFrame"
      ]
     },
     "execution_count": 75,
     "metadata": {},
     "output_type": "execute_result"
    }
   ],
   "source": [
    "type(data_filtered)"
   ]
  },
  {
   "cell_type": "code",
   "execution_count": 76,
   "metadata": {},
   "outputs": [],
   "source": [
    "def CleanText(raw_text, remove_stopwords=False, stemming=False, split_text=False):\n",
    "    '''\n",
    "    Convert a raw review to a cleaned review\n",
    "    '''\n",
    "    text = BeautifulSoup(raw_text, 'lxml').get_text()  #remove html\n",
    "    letters_only = re.sub(\"[^a-zA-Z]\", \" \", text)  # remove non-character\n",
    "    words = letters_only.lower().split() # convert to lower case \n",
    "    \n",
    "    if remove_stopwords: # remove stopword\n",
    "        stops = set(stopwords.words(\"english\"))\n",
    "        words = [w for w in words if not w in stops]\n",
    "        \n",
    "    if stemming==True: # stemming\n",
    "        #stemmer = PorterStemmer()\n",
    "        stemmer = SnowballStemmer('english') \n",
    "        words = [stemmer.stem(w) for w in words]\n",
    "        \n",
    "    if split_text==True:  # split text\n",
    "        return (words)\n",
    "    \n",
    "    return( \" \".join(words))"
   ]
  },
  {
   "cell_type": "code",
   "execution_count": 77,
   "metadata": {},
   "outputs": [
    {
     "data": {
      "text/html": [
       "<div>\n",
       "<style scoped>\n",
       "    .dataframe tbody tr th:only-of-type {\n",
       "        vertical-align: middle;\n",
       "    }\n",
       "\n",
       "    .dataframe tbody tr th {\n",
       "        vertical-align: top;\n",
       "    }\n",
       "\n",
       "    .dataframe thead th {\n",
       "        text-align: right;\n",
       "    }\n",
       "</style>\n",
       "<table border=\"1\" class=\"dataframe\">\n",
       "  <thead>\n",
       "    <tr style=\"text-align: right;\">\n",
       "      <th></th>\n",
       "      <th>cord_uid</th>\n",
       "      <th>sha</th>\n",
       "      <th>source_x</th>\n",
       "      <th>title</th>\n",
       "      <th>doi</th>\n",
       "      <th>pmcid</th>\n",
       "      <th>pubmed_id</th>\n",
       "      <th>license</th>\n",
       "      <th>abstract</th>\n",
       "      <th>publish_time</th>\n",
       "      <th>authors</th>\n",
       "      <th>journal</th>\n",
       "      <th>mag_id</th>\n",
       "      <th>who_covidence_id</th>\n",
       "      <th>arxiv_id</th>\n",
       "      <th>pdf_json_files</th>\n",
       "      <th>pmc_json_files</th>\n",
       "      <th>url</th>\n",
       "      <th>s2_id</th>\n",
       "      <th>Cleaned title</th>\n",
       "    </tr>\n",
       "  </thead>\n",
       "  <tbody>\n",
       "    <tr>\n",
       "      <th>0</th>\n",
       "      <td>rr2wwvue</td>\n",
       "      <td>c64f525d77bf8b2ae4439a875f1bd8eb197a0519</td>\n",
       "      <td>PMC</td>\n",
       "      <td>Association and Host Selectivity in Multi-Host...</td>\n",
       "      <td>10.1371/journal.pone.0000041</td>\n",
       "      <td>PMC1762347</td>\n",
       "      <td>17183670.0</td>\n",
       "      <td>cc-by</td>\n",
       "      <td>The distribution of multi-host pathogens over ...</td>\n",
       "      <td>2006-12-20</td>\n",
       "      <td>Malpica, José M.; Sacristán, Soledad; Fraile, ...</td>\n",
       "      <td>PLoS One</td>\n",
       "      <td>NaN</td>\n",
       "      <td>NaN</td>\n",
       "      <td>NaN</td>\n",
       "      <td>document_parses/pdf_json/c64f525d77bf8b2ae4439...</td>\n",
       "      <td>document_parses/pmc_json/PMC1762347.xml.json</td>\n",
       "      <td>https://www.ncbi.nlm.nih.gov/pmc/articles/PMC1...</td>\n",
       "      <td>NaN</td>\n",
       "      <td>association and host selectivity in multi host...</td>\n",
       "    </tr>\n",
       "    <tr>\n",
       "      <th>1</th>\n",
       "      <td>1n0rg5vd</td>\n",
       "      <td>6af02873a430f5f75dc56a917f26feaea89b8e79</td>\n",
       "      <td>PMC</td>\n",
       "      <td>The Effectiveness of Contact Tracing in Emergi...</td>\n",
       "      <td>10.1371/journal.pone.0000012</td>\n",
       "      <td>PMC1762362</td>\n",
       "      <td>17183638.0</td>\n",
       "      <td>cc-by</td>\n",
       "      <td>BACKGROUND: Contact tracing plays an important...</td>\n",
       "      <td>2006-12-20</td>\n",
       "      <td>Klinkenberg, Don; Fraser, Christophe; Heesterb...</td>\n",
       "      <td>PLoS One</td>\n",
       "      <td>NaN</td>\n",
       "      <td>NaN</td>\n",
       "      <td>NaN</td>\n",
       "      <td>document_parses/pdf_json/6af02873a430f5f75dc56...</td>\n",
       "      <td>document_parses/pmc_json/PMC1762362.xml.json</td>\n",
       "      <td>https://www.ncbi.nlm.nih.gov/pmc/articles/PMC1...</td>\n",
       "      <td>NaN</td>\n",
       "      <td>the effectiveness of contact tracing in emergi...</td>\n",
       "    </tr>\n",
       "    <tr>\n",
       "      <th>2</th>\n",
       "      <td>nzh87aux</td>\n",
       "      <td>9b7a0ad7b6c7f59e7a6cf1dc9d07912a273d19b5</td>\n",
       "      <td>PMC</td>\n",
       "      <td>The Waiting Time for Inter-Country Spread of P...</td>\n",
       "      <td>10.1371/journal.pone.0000143</td>\n",
       "      <td>PMC1764036</td>\n",
       "      <td>17206278.0</td>\n",
       "      <td>cc-by</td>\n",
       "      <td>BACKGROUND: The time delay between the start o...</td>\n",
       "      <td>2007-01-03</td>\n",
       "      <td>Caley, Peter; Becker, Niels G.; Philp, David J.</td>\n",
       "      <td>PLoS One</td>\n",
       "      <td>NaN</td>\n",
       "      <td>NaN</td>\n",
       "      <td>NaN</td>\n",
       "      <td>document_parses/pdf_json/9b7a0ad7b6c7f59e7a6cf...</td>\n",
       "      <td>document_parses/pmc_json/PMC1764036.xml.json</td>\n",
       "      <td>https://www.ncbi.nlm.nih.gov/pmc/articles/PMC1...</td>\n",
       "      <td>NaN</td>\n",
       "      <td>the waiting time for inter country spread of p...</td>\n",
       "    </tr>\n",
       "    <tr>\n",
       "      <th>3</th>\n",
       "      <td>x2zq0lnt</td>\n",
       "      <td>d882f79283751d6c7f2e48cb991ee8abbcd913ae</td>\n",
       "      <td>PMC</td>\n",
       "      <td>The Transmissibility of Highly Pathogenic Avia...</td>\n",
       "      <td>10.1371/journal.pone.0000349</td>\n",
       "      <td>PMC1831494</td>\n",
       "      <td>17406673.0</td>\n",
       "      <td>cc-by</td>\n",
       "      <td>BACKGROUND: With the increased occurrence of o...</td>\n",
       "      <td>2007-04-04</td>\n",
       "      <td>Garske, Tini; Clarke, Paul; Ghani, Azra C.</td>\n",
       "      <td>PLoS One</td>\n",
       "      <td>NaN</td>\n",
       "      <td>NaN</td>\n",
       "      <td>NaN</td>\n",
       "      <td>document_parses/pdf_json/d882f79283751d6c7f2e4...</td>\n",
       "      <td>document_parses/pmc_json/PMC1831494.xml.json</td>\n",
       "      <td>https://www.ncbi.nlm.nih.gov/pmc/articles/PMC1...</td>\n",
       "      <td>NaN</td>\n",
       "      <td>the transmissibility of highly pathogenic avia...</td>\n",
       "    </tr>\n",
       "    <tr>\n",
       "      <th>4</th>\n",
       "      <td>s4y6uxsb</td>\n",
       "      <td>305cf1019ca9c81126b2e527fedf79969c2c522f</td>\n",
       "      <td>PMC</td>\n",
       "      <td>ElaD, a Deubiquitinating Protease Expressed by...</td>\n",
       "      <td>10.1371/journal.pone.0000381</td>\n",
       "      <td>PMC1847702</td>\n",
       "      <td>17440617.0</td>\n",
       "      <td>cc-by</td>\n",
       "      <td>BACKGROUND: Ubiquitin and ubiquitin-like prote...</td>\n",
       "      <td>2007-04-18</td>\n",
       "      <td>Catic, André; Misaghi, Shahram; Korbel, Gregor...</td>\n",
       "      <td>PLoS One</td>\n",
       "      <td>NaN</td>\n",
       "      <td>NaN</td>\n",
       "      <td>NaN</td>\n",
       "      <td>document_parses/pdf_json/305cf1019ca9c81126b2e...</td>\n",
       "      <td>document_parses/pmc_json/PMC1847702.xml.json</td>\n",
       "      <td>https://www.ncbi.nlm.nih.gov/pmc/articles/PMC1...</td>\n",
       "      <td>NaN</td>\n",
       "      <td>elad a deubiquitinating protease expressed by ...</td>\n",
       "    </tr>\n",
       "  </tbody>\n",
       "</table>\n",
       "</div>"
      ],
      "text/plain": [
       "   cord_uid                                       sha source_x  \\\n",
       "0  rr2wwvue  c64f525d77bf8b2ae4439a875f1bd8eb197a0519      PMC   \n",
       "1  1n0rg5vd  6af02873a430f5f75dc56a917f26feaea89b8e79      PMC   \n",
       "2  nzh87aux  9b7a0ad7b6c7f59e7a6cf1dc9d07912a273d19b5      PMC   \n",
       "3  x2zq0lnt  d882f79283751d6c7f2e48cb991ee8abbcd913ae      PMC   \n",
       "4  s4y6uxsb  305cf1019ca9c81126b2e527fedf79969c2c522f      PMC   \n",
       "\n",
       "                                               title  \\\n",
       "0  Association and Host Selectivity in Multi-Host...   \n",
       "1  The Effectiveness of Contact Tracing in Emergi...   \n",
       "2  The Waiting Time for Inter-Country Spread of P...   \n",
       "3  The Transmissibility of Highly Pathogenic Avia...   \n",
       "4  ElaD, a Deubiquitinating Protease Expressed by...   \n",
       "\n",
       "                            doi       pmcid   pubmed_id license  \\\n",
       "0  10.1371/journal.pone.0000041  PMC1762347  17183670.0   cc-by   \n",
       "1  10.1371/journal.pone.0000012  PMC1762362  17183638.0   cc-by   \n",
       "2  10.1371/journal.pone.0000143  PMC1764036  17206278.0   cc-by   \n",
       "3  10.1371/journal.pone.0000349  PMC1831494  17406673.0   cc-by   \n",
       "4  10.1371/journal.pone.0000381  PMC1847702  17440617.0   cc-by   \n",
       "\n",
       "                                            abstract publish_time  \\\n",
       "0  The distribution of multi-host pathogens over ...   2006-12-20   \n",
       "1  BACKGROUND: Contact tracing plays an important...   2006-12-20   \n",
       "2  BACKGROUND: The time delay between the start o...   2007-01-03   \n",
       "3  BACKGROUND: With the increased occurrence of o...   2007-04-04   \n",
       "4  BACKGROUND: Ubiquitin and ubiquitin-like prote...   2007-04-18   \n",
       "\n",
       "                                             authors   journal  mag_id  \\\n",
       "0  Malpica, José M.; Sacristán, Soledad; Fraile, ...  PLoS One     NaN   \n",
       "1  Klinkenberg, Don; Fraser, Christophe; Heesterb...  PLoS One     NaN   \n",
       "2    Caley, Peter; Becker, Niels G.; Philp, David J.  PLoS One     NaN   \n",
       "3         Garske, Tini; Clarke, Paul; Ghani, Azra C.  PLoS One     NaN   \n",
       "4  Catic, André; Misaghi, Shahram; Korbel, Gregor...  PLoS One     NaN   \n",
       "\n",
       "  who_covidence_id  arxiv_id  \\\n",
       "0              NaN       NaN   \n",
       "1              NaN       NaN   \n",
       "2              NaN       NaN   \n",
       "3              NaN       NaN   \n",
       "4              NaN       NaN   \n",
       "\n",
       "                                      pdf_json_files  \\\n",
       "0  document_parses/pdf_json/c64f525d77bf8b2ae4439...   \n",
       "1  document_parses/pdf_json/6af02873a430f5f75dc56...   \n",
       "2  document_parses/pdf_json/9b7a0ad7b6c7f59e7a6cf...   \n",
       "3  document_parses/pdf_json/d882f79283751d6c7f2e4...   \n",
       "4  document_parses/pdf_json/305cf1019ca9c81126b2e...   \n",
       "\n",
       "                                 pmc_json_files  \\\n",
       "0  document_parses/pmc_json/PMC1762347.xml.json   \n",
       "1  document_parses/pmc_json/PMC1762362.xml.json   \n",
       "2  document_parses/pmc_json/PMC1764036.xml.json   \n",
       "3  document_parses/pmc_json/PMC1831494.xml.json   \n",
       "4  document_parses/pmc_json/PMC1847702.xml.json   \n",
       "\n",
       "                                                 url  s2_id  \\\n",
       "0  https://www.ncbi.nlm.nih.gov/pmc/articles/PMC1...    NaN   \n",
       "1  https://www.ncbi.nlm.nih.gov/pmc/articles/PMC1...    NaN   \n",
       "2  https://www.ncbi.nlm.nih.gov/pmc/articles/PMC1...    NaN   \n",
       "3  https://www.ncbi.nlm.nih.gov/pmc/articles/PMC1...    NaN   \n",
       "4  https://www.ncbi.nlm.nih.gov/pmc/articles/PMC1...    NaN   \n",
       "\n",
       "                                       Cleaned title  \n",
       "0  association and host selectivity in multi host...  \n",
       "1  the effectiveness of contact tracing in emergi...  \n",
       "2  the waiting time for inter country spread of p...  \n",
       "3  the transmissibility of highly pathogenic avia...  \n",
       "4  elad a deubiquitinating protease expressed by ...  "
      ]
     },
     "execution_count": 77,
     "metadata": {},
     "output_type": "execute_result"
    }
   ],
   "source": [
    "import warnings\n",
    "warnings.filterwarnings(\"ignore\")\n",
    "cleaned_title=[]\n",
    "for i in data_filtered['title']:\n",
    "    cleaned_title.append(CleanText(i))\n",
    "data_filtered['Cleaned title']=cleaned_title\n",
    "data_filtered.head()"
   ]
  },
  {
   "cell_type": "code",
   "execution_count": 78,
   "metadata": {},
   "outputs": [],
   "source": [
    "language = []\n",
    "for i in data_filtered['Cleaned title']:\n",
    "    language.append(detect(i))\n",
    "data_filtered['Title Language']=language"
   ]
  },
  {
   "cell_type": "code",
   "execution_count": 79,
   "metadata": {},
   "outputs": [
    {
     "data": {
      "text/plain": [
       "en    17070\n",
       "it      125\n",
       "ca       75\n",
       "fr       69\n",
       "ro       31\n",
       "es       29\n",
       "nl       18\n",
       "af       15\n",
       "tl        8\n",
       "pt        8\n",
       "da        6\n",
       "sv        6\n",
       "cy        5\n",
       "et        5\n",
       "fi        3\n",
       "lv        2\n",
       "sl        2\n",
       "so        2\n",
       "id        2\n",
       "sq        2\n",
       "sw        1\n",
       "no        1\n",
       "hu        1\n",
       "tr        1\n",
       "hr        1\n",
       "vi        1\n",
       "Name: Title Language, dtype: int64"
      ]
     },
     "execution_count": 79,
     "metadata": {},
     "output_type": "execute_result"
    }
   ],
   "source": [
    "data_filtered['Title Language'].value_counts()"
   ]
  },
  {
   "cell_type": "code",
   "execution_count": 80,
   "metadata": {},
   "outputs": [],
   "source": [
    "data_filtered['abstract']=data_filtered['abstract'].apply(str)"
   ]
  },
  {
   "cell_type": "code",
   "execution_count": 81,
   "metadata": {},
   "outputs": [],
   "source": [
    "language = []\n",
    "for i in data_filtered['abstract']:\n",
    "    language.append(detect(i))\n",
    "data_filtered['Abstract Language']=language"
   ]
  },
  {
   "cell_type": "code",
   "execution_count": 82,
   "metadata": {},
   "outputs": [
    {
     "data": {
      "text/plain": [
       "en    11965\n",
       "tl     5523\n",
       "ca        1\n",
       "Name: Abstract Language, dtype: int64"
      ]
     },
     "execution_count": 82,
     "metadata": {},
     "output_type": "execute_result"
    }
   ],
   "source": [
    "data_filtered['Abstract Language'].value_counts()"
   ]
  },
  {
   "cell_type": "code",
   "execution_count": 83,
   "metadata": {},
   "outputs": [
    {
     "data": {
      "text/plain": [
       "Index(['cord_uid', 'sha', 'source_x', 'title', 'doi', 'pmcid', 'pubmed_id',\n",
       "       'license', 'abstract', 'publish_time', 'authors', 'journal', 'mag_id',\n",
       "       'who_covidence_id', 'arxiv_id', 'pdf_json_files', 'pmc_json_files',\n",
       "       'url', 's2_id', 'Cleaned title', 'Title Language', 'Abstract Language'],\n",
       "      dtype='object')"
      ]
     },
     "execution_count": 83,
     "metadata": {},
     "output_type": "execute_result"
    }
   ],
   "source": [
    "data_filtered.columns"
   ]
  },
  {
   "cell_type": "code",
   "execution_count": 84,
   "metadata": {},
   "outputs": [],
   "source": [
    "filt = (data_filtered['Abstract Language'] =='en')\n",
    "\n",
    "updated_df = data_filtered.loc[filt,['cord_uid', 'sha', 'source_x', 'title', 'doi', 'pmcid', 'pubmed_id',\n",
    "       'license', 'abstract', 'publish_time', 'authors', 'journal', 'mag_id',\n",
    "       'who_covidence_id', 'arxiv_id', 'pdf_json_files', 'pmc_json_files',\n",
    "       'url', 's2_id', 'Cleaned title', 'Title Language', 'Abstract Language']]\n",
    "\n",
    "updated_df.to_csv('./data2.csv', index = False)"
   ]
  },
  {
   "cell_type": "code",
   "execution_count": 85,
   "metadata": {},
   "outputs": [],
   "source": [
    "english_data_filtered = pd.read_csv(\"data2.csv\")"
   ]
  },
  {
   "cell_type": "code",
   "execution_count": 86,
   "metadata": {},
   "outputs": [
    {
     "data": {
      "text/plain": [
       "(11965, 22)"
      ]
     },
     "execution_count": 86,
     "metadata": {},
     "output_type": "execute_result"
    }
   ],
   "source": [
    "english_data_filtered.shape"
   ]
  },
  {
   "cell_type": "code",
   "execution_count": 87,
   "metadata": {},
   "outputs": [],
   "source": [
    "import spacy\n",
    "from spacy import displacy\n",
    "from collections import Counter\n",
    "ner = spacy.load(\"en_core_web_lg\")"
   ]
  },
  {
   "cell_type": "code",
   "execution_count": 88,
   "metadata": {},
   "outputs": [
    {
     "data": {
      "text/html": [
       "<span class=\"tex2jax_ignore\"><div class=\"entities\" style=\"line-height: 2.5; direction: ltr\">BACKGROUND: Contact tracing plays an important role in the control of emerging infectious diseases, but little is known yet about its effectiveness. Here we deduce from a generic mathematical model how effectiveness of tracing relates to various aspects of time, such as the course of individual infectivity, the (variability in) time between infection and symptom-based detection, and delays in the tracing process. In addition, the possibility of iteratively tracing of yet asymptomatic infecteds is considered. With these insights we explain why contact tracing was and will be effective for control of smallpox and SARS, only partially effective for foot-and-mouth disease, and likely not effective for influenza. METHODS AND FINDINGS: We investigate contact tracing in a model of an emerging epidemic that is flexible enough to use for most infections. We consider isolation of symptomatic infecteds as the basic scenario, and express effectiveness as the proportion of contacts that need to be traced for a reproduction ratio smaller than 1. We obtain general results for special cases, which are interpreted with respect to the likely success of tracing for influenza, smallpox, SARS, and foot-and-mouth disease epidemics. CONCLUSIONS: We conclude that (\n",
       "<mark class=\"entity\" style=\"background: #e4e7d2; padding: 0.45em 0.6em; margin: 0 0.25em; line-height: 1; border-radius: 0.35em;\">\n",
       "    1\n",
       "    <span style=\"font-size: 0.8em; font-weight: bold; line-height: 1; border-radius: 0.35em; vertical-align: middle; margin-left: 0.5rem\">CARDINAL</span>\n",
       "</mark>\n",
       ") there is no general predictive formula for the proportion to be traced as there is for the proportion to be vaccinated; (\n",
       "<mark class=\"entity\" style=\"background: #e4e7d2; padding: 0.45em 0.6em; margin: 0 0.25em; line-height: 1; border-radius: 0.35em;\">\n",
       "    2\n",
       "    <span style=\"font-size: 0.8em; font-weight: bold; line-height: 1; border-radius: 0.35em; vertical-align: middle; margin-left: 0.5rem\">CARDINAL</span>\n",
       "</mark>\n",
       ") variability in time to detection is favourable for effective tracing; (\n",
       "<mark class=\"entity\" style=\"background: #e4e7d2; padding: 0.45em 0.6em; margin: 0 0.25em; line-height: 1; border-radius: 0.35em;\">\n",
       "    3\n",
       "    <span style=\"font-size: 0.8em; font-weight: bold; line-height: 1; border-radius: 0.35em; vertical-align: middle; margin-left: 0.5rem\">CARDINAL</span>\n",
       "</mark>\n",
       ") tracing effectiveness need not be sensitive to the duration of the latent period and tracing delays; (\n",
       "<mark class=\"entity\" style=\"background: #e4e7d2; padding: 0.45em 0.6em; margin: 0 0.25em; line-height: 1; border-radius: 0.35em;\">\n",
       "    4\n",
       "    <span style=\"font-size: 0.8em; font-weight: bold; line-height: 1; border-radius: 0.35em; vertical-align: middle; margin-left: 0.5rem\">CARDINAL</span>\n",
       "</mark>\n",
       ") iterative tracing primarily improves effectiveness when single-step tracing is on the brink of being effective.</div></span>"
      ],
      "text/plain": [
       "<IPython.core.display.HTML object>"
      ]
     },
     "metadata": {},
     "output_type": "display_data"
    }
   ],
   "source": [
    "## tag text\n",
    "txt = english_data_filtered[\"abstract\"].iloc[1]\n",
    "doc = ner(txt)\n",
    "## display result\n",
    "spacy.displacy.render(doc, style=\"ent\")"
   ]
  },
  {
   "cell_type": "code",
   "execution_count": 89,
   "metadata": {},
   "outputs": [],
   "source": [
    "import collections"
   ]
  },
  {
   "cell_type": "code",
   "execution_count": null,
   "metadata": {},
   "outputs": [],
   "source": [
    "## tag text and exctract tags into a list\n",
    "english_data_filtered[\"tags\"] = english_data_filtered[\"abstract\"].apply(lambda x: [(tag.text, tag.label_) for tag in ner(x).ents] )\n",
    "## utils function to count the element of a list\n",
    "def utils_lst_count(lst):\n",
    "    dic_counter = collections.Counter()\n",
    "    for x in lst:\n",
    "        dic_counter[x] += 1\n",
    "    dic_counter = OrderedDict( \n",
    "                     sorted(dic_counter.items(), \n",
    "                     key=lambda x: x[1], reverse=True))\n",
    "    lst_count = [ {key:value} for key,value in dic_counter.items() ]\n",
    "    return lst_count\n",
    "\n",
    "## count tags\n",
    "english_data_filtered[\"tags\"] = english_data_filtered[\"tags\"].apply(lambda x: utils_lst_count(x))\n",
    "\n",
    "## utils function create new column for each tag category\n",
    "def utils_ner_features(lst_dics_tuples, tag):\n",
    "    if len(lst_dics_tuples) > 0:\n",
    "        tag_type = []\n",
    "        for dic_tuples in lst_dics_tuples:\n",
    "            for tuple in dic_tuples:\n",
    "                type, n = tuple[1], dic_tuples[tuple]\n",
    "                tag_type = tag_type + [type]*n\n",
    "                dic_counter = Counter()\n",
    "                for x in tag_type:\n",
    "                    dic_counter[x] += 1\n",
    "        return dic_counter[tag]\n",
    "    else:\n",
    "        return 0\n",
    "\n",
    "## extract features\n",
    "tags_set = []\n",
    "for lst in english_data_filtered[\"tags\"].tolist():\n",
    "     for dic in lst:\n",
    "            for k in dic.keys():\n",
    "                tags_set.append(k[1])\n",
    "tags_set = list(set(tags_set))\n",
    "for feature in tags_set:\n",
    "    english_data_filtered[\"tags_\"+feature] = english_data_filtered[\"tags\"].apply(lambda x: utils_ner_features(x, feature))\n",
    "\n",
    "## print result\n",
    "english_data_filtered.head()"
   ]
  },
  {
   "cell_type": "code",
   "execution_count": null,
   "metadata": {},
   "outputs": [],
   "source": []
  }
 ],
 "metadata": {
  "kernelspec": {
   "display_name": "Python 3",
   "language": "python",
   "name": "python3"
  },
  "language_info": {
   "codemirror_mode": {
    "name": "ipython",
    "version": 3
   },
   "file_extension": ".py",
   "mimetype": "text/x-python",
   "name": "python",
   "nbconvert_exporter": "python",
   "pygments_lexer": "ipython3",
   "version": "3.8.5"
  }
 },
 "nbformat": 4,
 "nbformat_minor": 4
}
